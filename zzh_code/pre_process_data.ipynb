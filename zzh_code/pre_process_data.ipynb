{
 "cells": [
  {
   "cell_type": "markdown",
   "source": [
    "# Step 0: Segment original FOS dataset to the 10s video clips"
   ],
   "metadata": {
    "collapsed": false
   }
  },
  {
   "cell_type": "markdown",
   "source": [
    "I have modeified \"seg_to_10s_av_clips.py\", just run the code \"seg_to_10s_av_clips.py\" to segment the original FOS dataset to the 10s video clips. Keep the corresponding labels in the CSV file."
   ],
   "metadata": {
    "collapsed": false
   }
  },
  {
   "cell_type": "markdown",
   "source": [
    "# Step 1: Extract audio track and image frames from the video"
   ],
   "metadata": {
    "collapsed": false
   }
  },
  {
   "cell_type": "markdown",
   "source": [
    "## Step 1.1: build the 10s video clips list in CSV format"
   ],
   "metadata": {
    "collapsed": false
   }
  },
  {
   "cell_type": "code",
   "execution_count": 1,
   "outputs": [],
   "source": [
    "import pandas as pd\n",
    "import os"
   ],
   "metadata": {
    "collapsed": false,
    "ExecuteTime": {
     "start_time": "2024-02-22T18:53:38.751393Z",
     "end_time": "2024-02-22T18:53:39.039212Z"
    }
   }
  },
  {
   "cell_type": "code",
   "execution_count": 2,
   "outputs": [
    {
     "data": {
      "text/plain": "     C:\\Users\\36394\\Study\\GWU\\PHD in Biomedical Engineer\\Research\\FOS\\Autism_dataset\\Data_10s_clips\\20th_BAM_Hospital_Playtime_New Toys_0.mp4\n0     C:\\Users\\36394\\Study\\GWU\\PHD in Biomedical Eng...                                                                                      \n1     C:\\Users\\36394\\Study\\GWU\\PHD in Biomedical Eng...                                                                                      \n2     C:\\Users\\36394\\Study\\GWU\\PHD in Biomedical Eng...                                                                                      \n3     C:\\Users\\36394\\Study\\GWU\\PHD in Biomedical Eng...                                                                                      \n4     C:\\Users\\36394\\Study\\GWU\\PHD in Biomedical Eng...                                                                                      \n...                                                 ...                                                                                      \n8154  C:\\Users\\36394\\Study\\GWU\\PHD in Biomedical Eng...                                                                                      \n8155  C:\\Users\\36394\\Study\\GWU\\PHD in Biomedical Eng...                                                                                      \n8156  C:\\Users\\36394\\Study\\GWU\\PHD in Biomedical Eng...                                                                                      \n8157  C:\\Users\\36394\\Study\\GWU\\PHD in Biomedical Eng...                                                                                      \n8158  C:\\Users\\36394\\Study\\GWU\\PHD in Biomedical Eng...                                                                                      \n\n[8159 rows x 1 columns]",
      "text/html": "<div>\n<style scoped>\n    .dataframe tbody tr th:only-of-type {\n        vertical-align: middle;\n    }\n\n    .dataframe tbody tr th {\n        vertical-align: top;\n    }\n\n    .dataframe thead th {\n        text-align: right;\n    }\n</style>\n<table border=\"1\" class=\"dataframe\">\n  <thead>\n    <tr style=\"text-align: right;\">\n      <th></th>\n      <th>C:\\Users\\36394\\Study\\GWU\\PHD in Biomedical Engineer\\Research\\FOS\\Autism_dataset\\Data_10s_clips\\20th_BAM_Hospital_Playtime_New Toys_0.mp4</th>\n    </tr>\n  </thead>\n  <tbody>\n    <tr>\n      <th>0</th>\n      <td>C:\\Users\\36394\\Study\\GWU\\PHD in Biomedical Eng...</td>\n    </tr>\n    <tr>\n      <th>1</th>\n      <td>C:\\Users\\36394\\Study\\GWU\\PHD in Biomedical Eng...</td>\n    </tr>\n    <tr>\n      <th>2</th>\n      <td>C:\\Users\\36394\\Study\\GWU\\PHD in Biomedical Eng...</td>\n    </tr>\n    <tr>\n      <th>3</th>\n      <td>C:\\Users\\36394\\Study\\GWU\\PHD in Biomedical Eng...</td>\n    </tr>\n    <tr>\n      <th>4</th>\n      <td>C:\\Users\\36394\\Study\\GWU\\PHD in Biomedical Eng...</td>\n    </tr>\n    <tr>\n      <th>...</th>\n      <td>...</td>\n    </tr>\n    <tr>\n      <th>8154</th>\n      <td>C:\\Users\\36394\\Study\\GWU\\PHD in Biomedical Eng...</td>\n    </tr>\n    <tr>\n      <th>8155</th>\n      <td>C:\\Users\\36394\\Study\\GWU\\PHD in Biomedical Eng...</td>\n    </tr>\n    <tr>\n      <th>8156</th>\n      <td>C:\\Users\\36394\\Study\\GWU\\PHD in Biomedical Eng...</td>\n    </tr>\n    <tr>\n      <th>8157</th>\n      <td>C:\\Users\\36394\\Study\\GWU\\PHD in Biomedical Eng...</td>\n    </tr>\n    <tr>\n      <th>8158</th>\n      <td>C:\\Users\\36394\\Study\\GWU\\PHD in Biomedical Eng...</td>\n    </tr>\n  </tbody>\n</table>\n<p>8159 rows × 1 columns</p>\n</div>"
     },
     "execution_count": 2,
     "metadata": {},
     "output_type": "execute_result"
    }
   ],
   "source": [
    "df_original_dataset = pd. read_csv(r'10s_av_clips_with_labels.csv')\n",
    "df_paths_clip = pd.DataFrame([os.path.normpath(path) for path in df_original_dataset['path'].values], columns=['path'])\n",
    "df_paths_clip.to_csv('paths_clip.csv', header=False, index=False)\n",
    "df_paths_clip = pd.read_csv('paths_clip.csv')\n",
    "df_paths_clip"
   ],
   "metadata": {
    "collapsed": false,
    "ExecuteTime": {
     "start_time": "2024-02-22T18:53:40.154470Z",
     "end_time": "2024-02-22T18:53:40.240271Z"
    }
   }
  },
  {
   "cell_type": "markdown",
   "source": [
    "## Step 1.2: extract audio track and image frames from the video\n",
    "I have modified the\n",
    "\"\\src\\preprocess\\extract_audio.py\" and \"\\src\\preprocess\\extract_video_frame.py\"\n",
    "to fit our FOS dataset.\n",
    "In the terminal, run the following command to extract audio track and image frames from the video:\n",
    "```bash\n",
    "python src/preprocess/extract_audio.py\n",
    "  -input_file_list \"C:\\Users\\36394\\PycharmProjects\\cav-mae\\zzh_code\\paths_clip.csv\"\n",
    "  -target_fold \"C:\\Users\\36394\\Study\\GWU\\PHD in Biomedical Engineer\\Research\\FOS\\Autism_dataset\\cav_mae_processed_data\\audio_10s\"\n",
    "\n",
    "python src/preprocess/extract_video_frame.py\n",
    "  -input_file_list \"C:\\Users\\36394\\PycharmProjects\\cav-mae\\zzh_code\\paths_clip.csv\"\n",
    "  -target_fold \"C:\\Users\\36394\\Study\\GWU\\PHD in Biomedical Engineer\\Research\\FOS\\Autism_dataset\\cav_mae_processed_data\\RGB_10_frames\"\n",
    "```"
   ],
   "metadata": {
    "collapsed": false
   }
  },
  {
   "cell_type": "code",
   "execution_count": null,
   "outputs": [],
   "source": [],
   "metadata": {
    "collapsed": false
   }
  }
 ],
 "metadata": {
  "kernelspec": {
   "display_name": "Python 3",
   "language": "python",
   "name": "python3"
  },
  "language_info": {
   "codemirror_mode": {
    "name": "ipython",
    "version": 2
   },
   "file_extension": ".py",
   "mimetype": "text/x-python",
   "name": "python",
   "nbconvert_exporter": "python",
   "pygments_lexer": "ipython2",
   "version": "2.7.6"
  }
 },
 "nbformat": 4,
 "nbformat_minor": 0
}
