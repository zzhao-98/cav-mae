{
 "cells": [
  {
   "cell_type": "markdown",
   "source": [
    "# Step 0: Segment original FOS dataset to the 10s video clips"
   ],
   "metadata": {
    "collapsed": false
   }
  },
  {
   "cell_type": "markdown",
   "source": [
    "I have modeified \"seg_to_10s_av_clips.py\", just run the code \"seg_to_10s_av_clips.py\" to segment the original FOS dataset to the 10s video clips. Keep the corresponding labels in the CSV file."
   ],
   "metadata": {
    "collapsed": false
   }
  },
  {
   "cell_type": "markdown",
   "source": [
    "# Step 1: Extract audio track and image frames from the video"
   ],
   "metadata": {
    "collapsed": false
   }
  },
  {
   "cell_type": "markdown",
   "source": [
    "## Step 1.1: build the 10s video clips list in CSV format"
   ],
   "metadata": {
    "collapsed": false
   }
  },
  {
   "cell_type": "code",
   "execution_count": 1,
   "outputs": [],
   "source": [
    "import numpy as np\n",
    "import pandas as pd\n",
    "import os"
   ],
   "metadata": {
    "collapsed": false,
    "ExecuteTime": {
     "start_time": "2024-02-23T13:15:06.386442Z",
     "end_time": "2024-02-23T13:15:06.737602Z"
    }
   }
  },
  {
   "cell_type": "code",
   "execution_count": 2,
   "outputs": [
    {
     "data": {
      "text/plain": "     C:\\Users\\36394\\Study\\GWU\\PHD in Biomedical Engineer\\Research\\FOS\\Autism_dataset\\Data_10s_clips\\20th_BAM_Hospital_Playtime_New Toys_0.mp4\n0     C:\\Users\\36394\\Study\\GWU\\PHD in Biomedical Eng...                                                                                      \n1     C:\\Users\\36394\\Study\\GWU\\PHD in Biomedical Eng...                                                                                      \n2     C:\\Users\\36394\\Study\\GWU\\PHD in Biomedical Eng...                                                                                      \n3     C:\\Users\\36394\\Study\\GWU\\PHD in Biomedical Eng...                                                                                      \n4     C:\\Users\\36394\\Study\\GWU\\PHD in Biomedical Eng...                                                                                      \n...                                                 ...                                                                                      \n8102  C:\\Users\\36394\\Study\\GWU\\PHD in Biomedical Eng...                                                                                      \n8103  C:\\Users\\36394\\Study\\GWU\\PHD in Biomedical Eng...                                                                                      \n8104  C:\\Users\\36394\\Study\\GWU\\PHD in Biomedical Eng...                                                                                      \n8105  C:\\Users\\36394\\Study\\GWU\\PHD in Biomedical Eng...                                                                                      \n8106  C:\\Users\\36394\\Study\\GWU\\PHD in Biomedical Eng...                                                                                      \n\n[8107 rows x 1 columns]",
      "text/html": "<div>\n<style scoped>\n    .dataframe tbody tr th:only-of-type {\n        vertical-align: middle;\n    }\n\n    .dataframe tbody tr th {\n        vertical-align: top;\n    }\n\n    .dataframe thead th {\n        text-align: right;\n    }\n</style>\n<table border=\"1\" class=\"dataframe\">\n  <thead>\n    <tr style=\"text-align: right;\">\n      <th></th>\n      <th>C:\\Users\\36394\\Study\\GWU\\PHD in Biomedical Engineer\\Research\\FOS\\Autism_dataset\\Data_10s_clips\\20th_BAM_Hospital_Playtime_New Toys_0.mp4</th>\n    </tr>\n  </thead>\n  <tbody>\n    <tr>\n      <th>0</th>\n      <td>C:\\Users\\36394\\Study\\GWU\\PHD in Biomedical Eng...</td>\n    </tr>\n    <tr>\n      <th>1</th>\n      <td>C:\\Users\\36394\\Study\\GWU\\PHD in Biomedical Eng...</td>\n    </tr>\n    <tr>\n      <th>2</th>\n      <td>C:\\Users\\36394\\Study\\GWU\\PHD in Biomedical Eng...</td>\n    </tr>\n    <tr>\n      <th>3</th>\n      <td>C:\\Users\\36394\\Study\\GWU\\PHD in Biomedical Eng...</td>\n    </tr>\n    <tr>\n      <th>4</th>\n      <td>C:\\Users\\36394\\Study\\GWU\\PHD in Biomedical Eng...</td>\n    </tr>\n    <tr>\n      <th>...</th>\n      <td>...</td>\n    </tr>\n    <tr>\n      <th>8102</th>\n      <td>C:\\Users\\36394\\Study\\GWU\\PHD in Biomedical Eng...</td>\n    </tr>\n    <tr>\n      <th>8103</th>\n      <td>C:\\Users\\36394\\Study\\GWU\\PHD in Biomedical Eng...</td>\n    </tr>\n    <tr>\n      <th>8104</th>\n      <td>C:\\Users\\36394\\Study\\GWU\\PHD in Biomedical Eng...</td>\n    </tr>\n    <tr>\n      <th>8105</th>\n      <td>C:\\Users\\36394\\Study\\GWU\\PHD in Biomedical Eng...</td>\n    </tr>\n    <tr>\n      <th>8106</th>\n      <td>C:\\Users\\36394\\Study\\GWU\\PHD in Biomedical Eng...</td>\n    </tr>\n  </tbody>\n</table>\n<p>8107 rows × 1 columns</p>\n</div>"
     },
     "execution_count": 2,
     "metadata": {},
     "output_type": "execute_result"
    }
   ],
   "source": [
    "df_original_dataset = pd. read_csv(r'10s_av_clips_with_labels.csv')\n",
    "df_paths_clip = pd.DataFrame([os.path.normpath(path) for path in df_original_dataset['path'].values], columns=['path'])\n",
    "df_paths_clip.to_csv('paths_clip.csv', header=False, index=False)\n",
    "df_paths_clip = pd.read_csv('paths_clip.csv')\n",
    "df_paths_clip"
   ],
   "metadata": {
    "collapsed": false,
    "ExecuteTime": {
     "start_time": "2024-02-23T13:15:06.881627Z",
     "end_time": "2024-02-23T13:15:06.959629Z"
    }
   }
  },
  {
   "cell_type": "markdown",
   "source": [
    "## Step 1.2: extract audio track and image frames from the video\n",
    "I have modified the\n",
    "\"\\src\\preprocess\\extract_audio.py\" and \"\\src\\preprocess\\extract_video_frame.py\"\n",
    "to fit our FOS dataset.\n",
    "In the terminal, run the following command to extract audio track and image frames from the video:\n",
    "```bash\n",
    "python src/preprocess/extract_audio.py\n",
    "  -input_file_list \"C:\\Users\\36394\\PycharmProjects\\cav-mae\\zzh_code\\paths_clip.csv\"\n",
    "  -target_fold \"C:\\Users\\36394\\Study\\GWU\\PHD in Biomedical Engineer\\Research\\FOS\\Autism_dataset\\cav_mae_processed_data\\audio_10s\"\n",
    "\n",
    "python src/preprocess/extract_video_frame.py\n",
    "  -input_file_list \"C:\\Users\\36394\\PycharmProjects\\cav-mae\\zzh_code\\paths_clip.csv\"\n",
    "  -target_fold \"C:\\Users\\36394\\Study\\GWU\\PHD in Biomedical Engineer\\Research\\FOS\\Autism_dataset\\cav_mae_processed_data\\RGB_10_frames\"\n",
    "```"
   ],
   "metadata": {
    "collapsed": false
   }
  },
  {
   "cell_type": "markdown",
   "source": [
    "# Step 2: Build a FOS label csv and json files for the FOS dataset."
   ],
   "metadata": {
    "collapsed": false
   }
  },
  {
   "cell_type": "markdown",
   "source": [
    "## Step 2.1: Build a FOS label csv."
   ],
   "metadata": {
    "collapsed": false
   }
  },
  {
   "cell_type": "code",
   "execution_count": 21,
   "outputs": [
    {
     "data": {
      "text/plain": "array(['AD', 'AV', 'Aff_child', 'Aff_parent', 'C+', 'C-', 'CP', 'EA',\n       'Int_child', 'Int_parent', 'MI', 'NC', 'O', 'P', 'PN', 'Q+', 'Q-',\n       'S+', 'S-', 'SI+', 'SI-', 'VI+', 'VI-'], dtype='<U10')"
     },
     "execution_count": 21,
     "metadata": {},
     "output_type": "execute_result"
    }
   ],
   "source": [
    "# Find all the unique labels (ISs) in the FOS dataset\n",
    "import pandas as pd\n",
    "import numpy as np\n",
    "from ast import literal_eval\n",
    "df_FOS_10s_with_label = pd.read_csv(r'10s_av_clips_with_labels.csv')\n",
    "list_labels = []\n",
    "for i in df_FOS_10s_with_label.labels:\n",
    "    list_labels.extend(literal_eval(i))\n",
    "list_labels = np.unique(list_labels)\n",
    "list_labels"
   ],
   "metadata": {
    "collapsed": false,
    "ExecuteTime": {
     "start_time": "2024-02-26T10:38:49.261799Z",
     "end_time": "2024-02-26T10:38:49.342804Z"
    }
   }
  },
  {
   "cell_type": "code",
   "execution_count": 25,
   "outputs": [
    {
     "data": {
      "text/plain": "{'AD': 'Adersive demand',\n 'AV': 'Appropriate verbal interactions',\n 'Aff_child': 'Children affection',\n 'Aff_parent': 'Parent affection',\n 'C+': 'Positive contact',\n 'C-': 'Negative contact',\n 'CP': 'Complaint',\n 'EA': 'Engaged activity of play',\n 'Int_child': 'Children interrupt',\n 'Int_parent': 'Parent interrupt',\n 'MI': 'Mild instruction',\n 'NC': 'Non-compliance',\n 'O': 'Oppositional',\n 'P': 'Praise',\n 'PN': 'Physical negative',\n 'Q+': 'Positive question',\n 'Q-': 'Negative question',\n 'S+': 'Positive social attention',\n 'S-': 'Negative social attention',\n 'SI+': 'Positive specific instruction',\n 'SI-': 'Negative specific instruction',\n 'VI+': 'Positive vague instruction',\n 'VI-': 'Negative vague instruction'}"
     },
     "execution_count": 25,
     "metadata": {},
     "output_type": "execute_result"
    }
   ],
   "source": [
    "dict_FOS_labels = {\n",
    "    'AD': 'Adersive demand',\n",
    "    'AV': 'Appropriate verbal interactions',\n",
    "    'Aff_child': 'Children affection',\n",
    "    'Aff_parent': 'Parent affection',\n",
    "    'C+': 'Positive contact',\n",
    "    'C-': 'Negative contact',\n",
    "    'CP': 'Complaint',\n",
    "    'EA': 'Engaged activity of play',\n",
    "    'Int_child': 'Children interrupt',\n",
    "    'Int_parent': 'Parent interrupt',\n",
    "    'MI': 'Mild instruction',\n",
    "    'NC': 'Non-compliance',\n",
    "    'O': 'Oppositional',\n",
    "    'P': 'Praise',\n",
    "    'PN': 'Physical negative',\n",
    "    'Q+': 'Positive question',\n",
    "    'Q-': 'Negative question',\n",
    "    'S+': 'Positive social attention',\n",
    "    'S-': 'Negative social attention',\n",
    "    'SI+': 'Positive specific instruction',\n",
    "    'SI-': 'Negative specific instruction',\n",
    "    'VI+': 'Positive vague instruction',\n",
    "    'VI-': 'Negative vague instruction'\n",
    "}\n",
    "dict_FOS_labels"
   ],
   "metadata": {
    "collapsed": false,
    "ExecuteTime": {
     "start_time": "2024-02-26T11:28:56.883709Z",
     "end_time": "2024-02-26T11:28:56.902599Z"
    }
   }
  },
  {
   "cell_type": "code",
   "execution_count": 31,
   "outputs": [
    {
     "data": {
      "text/plain": "    index         mid                     display_name\n0       0          AD                  Adersive demand\n1       1          AV  Appropriate verbal interactions\n2       2   Aff_child               Children affection\n3       3  Aff_parent                 Parent affection\n4       4          C+                 Positive contact\n5       5          C-                 Negative contact\n6       6          CP                        Complaint\n7       7          EA         Engaged activity of play\n8       8   Int_child               Children interrupt\n9       9  Int_parent                 Parent interrupt\n10     10          MI                 Mild instruction\n11     11          NC                   Non-compliance\n12     12           O                     Oppositional\n13     13           P                           Praise\n14     14          PN                Physical negative\n15     15          Q+                Positive question\n16     16          Q-                Negative question\n17     17          S+        Positive social attention\n18     18          S-        Negative social attention\n19     19         SI+    Positive specific instruction\n20     20         SI-    Negative specific instruction\n21     21         VI+       Positive vague instruction\n22     22         VI-       Negative vague instruction",
      "text/html": "<div>\n<style scoped>\n    .dataframe tbody tr th:only-of-type {\n        vertical-align: middle;\n    }\n\n    .dataframe tbody tr th {\n        vertical-align: top;\n    }\n\n    .dataframe thead th {\n        text-align: right;\n    }\n</style>\n<table border=\"1\" class=\"dataframe\">\n  <thead>\n    <tr style=\"text-align: right;\">\n      <th></th>\n      <th>index</th>\n      <th>mid</th>\n      <th>display_name</th>\n    </tr>\n  </thead>\n  <tbody>\n    <tr>\n      <th>0</th>\n      <td>0</td>\n      <td>AD</td>\n      <td>Adersive demand</td>\n    </tr>\n    <tr>\n      <th>1</th>\n      <td>1</td>\n      <td>AV</td>\n      <td>Appropriate verbal interactions</td>\n    </tr>\n    <tr>\n      <th>2</th>\n      <td>2</td>\n      <td>Aff_child</td>\n      <td>Children affection</td>\n    </tr>\n    <tr>\n      <th>3</th>\n      <td>3</td>\n      <td>Aff_parent</td>\n      <td>Parent affection</td>\n    </tr>\n    <tr>\n      <th>4</th>\n      <td>4</td>\n      <td>C+</td>\n      <td>Positive contact</td>\n    </tr>\n    <tr>\n      <th>5</th>\n      <td>5</td>\n      <td>C-</td>\n      <td>Negative contact</td>\n    </tr>\n    <tr>\n      <th>6</th>\n      <td>6</td>\n      <td>CP</td>\n      <td>Complaint</td>\n    </tr>\n    <tr>\n      <th>7</th>\n      <td>7</td>\n      <td>EA</td>\n      <td>Engaged activity of play</td>\n    </tr>\n    <tr>\n      <th>8</th>\n      <td>8</td>\n      <td>Int_child</td>\n      <td>Children interrupt</td>\n    </tr>\n    <tr>\n      <th>9</th>\n      <td>9</td>\n      <td>Int_parent</td>\n      <td>Parent interrupt</td>\n    </tr>\n    <tr>\n      <th>10</th>\n      <td>10</td>\n      <td>MI</td>\n      <td>Mild instruction</td>\n    </tr>\n    <tr>\n      <th>11</th>\n      <td>11</td>\n      <td>NC</td>\n      <td>Non-compliance</td>\n    </tr>\n    <tr>\n      <th>12</th>\n      <td>12</td>\n      <td>O</td>\n      <td>Oppositional</td>\n    </tr>\n    <tr>\n      <th>13</th>\n      <td>13</td>\n      <td>P</td>\n      <td>Praise</td>\n    </tr>\n    <tr>\n      <th>14</th>\n      <td>14</td>\n      <td>PN</td>\n      <td>Physical negative</td>\n    </tr>\n    <tr>\n      <th>15</th>\n      <td>15</td>\n      <td>Q+</td>\n      <td>Positive question</td>\n    </tr>\n    <tr>\n      <th>16</th>\n      <td>16</td>\n      <td>Q-</td>\n      <td>Negative question</td>\n    </tr>\n    <tr>\n      <th>17</th>\n      <td>17</td>\n      <td>S+</td>\n      <td>Positive social attention</td>\n    </tr>\n    <tr>\n      <th>18</th>\n      <td>18</td>\n      <td>S-</td>\n      <td>Negative social attention</td>\n    </tr>\n    <tr>\n      <th>19</th>\n      <td>19</td>\n      <td>SI+</td>\n      <td>Positive specific instruction</td>\n    </tr>\n    <tr>\n      <th>20</th>\n      <td>20</td>\n      <td>SI-</td>\n      <td>Negative specific instruction</td>\n    </tr>\n    <tr>\n      <th>21</th>\n      <td>21</td>\n      <td>VI+</td>\n      <td>Positive vague instruction</td>\n    </tr>\n    <tr>\n      <th>22</th>\n      <td>22</td>\n      <td>VI-</td>\n      <td>Negative vague instruction</td>\n    </tr>\n  </tbody>\n</table>\n</div>"
     },
     "execution_count": 31,
     "metadata": {},
     "output_type": "execute_result"
    }
   ],
   "source": [
    "# Create label dataframe\n",
    "df_FOS_label = pd.DataFrame({\n",
    "    'index': list(range(0, len(dict_FOS_labels))),  # 0-based index\n",
    "    'mid': list(dict_FOS_labels.keys()),  # The IS code in the FOS dataset\n",
    "    'display_name': list(dict_FOS_labels.values())  # The IS in the FOS dataset\n",
    "})\n",
    "# Store and display the label dataframe\n",
    "df_FOS_label.to_csv('FOS_label.csv', index=False)\n",
    "df_FOS_label"
   ],
   "metadata": {
    "collapsed": false,
    "ExecuteTime": {
     "start_time": "2024-02-26T13:50:52.888168Z",
     "end_time": "2024-02-26T13:50:52.908710Z"
    }
   }
  },
  {
   "cell_type": "markdown",
   "source": [
    "## Step 2.2: Build a FOS label json."
   ],
   "metadata": {
    "collapsed": false
   }
  },
  {
   "cell_type": "code",
   "execution_count": 37,
   "outputs": [],
   "source": [
    "import json, os\n",
    "\n",
    "# Change the data dictionary if we used server to run the code\n",
    "dir_10_frames = r\"C:\\Users\\36394\\Study\\GWU\\PHD in Biomedical Engineer\\Research\\FOS\\Autism_dataset\\cav_mae_processed_data\\RGB_10_frames\"\n",
    "dir_audio = r'C:\\Users\\36394\\Study\\GWU\\PHD in Biomedical Engineer\\Research\\FOS\\Autism_dataset\\cav_mae_processed_data\\audio_10s'\n",
    "\n",
    "# Create the empty json dataset\n",
    "json_FOS_dataset = []\n",
    "\n",
    "# Convert the 10s video clips with labels to the json format\n",
    "df_FOS_10s_with_label = pd.read_csv(r'10s_av_clips_with_labels.csv')\n",
    "for index, row in df_FOS_10s_with_label.iterrows():\n",
    "    # Get the video id, labels and the path of the audio track\n",
    "    video_id = os.path.basename(row['path'][:-4])\n",
    "    labels = literal_eval(row['labels'])\n",
    "    labels = ', '.join(labels)\n",
    "    path_audio = os.path.join(dir_audio, video_id + '.wav')\n",
    "\n",
    "    # Create the new entry for the json file\n",
    "    new_entry = {\n",
    "        'video_id': video_id,\n",
    "        'wav': path_audio,\n",
    "        'video_path': dir_10_frames,\n",
    "        'labels': labels\n",
    "    }\n",
    "\n",
    "    # Append the new entry to the json dataset\n",
    "    json_FOS_dataset.append(new_entry)\n",
    "json_FOS_dataset = {'data': json_FOS_dataset}\n",
    "\n",
    "# save the json FOS dataset to a json file\n",
    "file_path = 'FOS_dataset.json'  # 指定文件保存路径\n",
    "with open(file_path, 'w') as file:\n",
    "    json.dump(json_FOS_dataset, file, indent=4)\n",
    "\n"
   ],
   "metadata": {
    "collapsed": false,
    "ExecuteTime": {
     "start_time": "2024-02-26T15:52:20.830884Z",
     "end_time": "2024-02-26T15:52:21.398155Z"
    }
   }
  }
 ],
 "metadata": {
  "kernelspec": {
   "display_name": "Python 3",
   "language": "python",
   "name": "python3"
  },
  "language_info": {
   "codemirror_mode": {
    "name": "ipython",
    "version": 2
   },
   "file_extension": ".py",
   "mimetype": "text/x-python",
   "name": "python",
   "nbconvert_exporter": "python",
   "pygments_lexer": "ipython2",
   "version": "2.7.6"
  }
 },
 "nbformat": 4,
 "nbformat_minor": 0
}
