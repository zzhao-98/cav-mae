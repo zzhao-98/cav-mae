{
 "cells": [
  {
   "cell_type": "markdown",
   "source": [
    "# Step 0: Segment original FOS dataset to the 10s video clips"
   ],
   "metadata": {
    "collapsed": false
   }
  },
  {
   "cell_type": "markdown",
   "source": [
    "I have modeified \"seg_to_10s_av_clips.py\", just run the code \"seg_to_10s_av_clips.py\" to segment the original FOS dataset to the 10s video clips. Keep the corresponding labels in the CSV file."
   ],
   "metadata": {
    "collapsed": false
   }
  },
  {
   "cell_type": "markdown",
   "source": [
    "# Step 1: Extract audio track and image frames from the video"
   ],
   "metadata": {
    "collapsed": false
   }
  },
  {
   "cell_type": "markdown",
   "source": [
    "## Step 1.1: build the 10s video clips list in CSV format"
   ],
   "metadata": {
    "collapsed": false,
    "ExecuteTime": {
     "end_time": "2024-02-29T17:18:36.112280100Z",
     "start_time": "2024-02-29T17:18:35.771100500Z"
    }
   },
   "outputs": [
    {
     "data": {
      "text/plain": "array(['AD', 'AV', 'Aff_child', 'Aff_parent', 'C+', 'C-', 'CP', 'EA',\n       'Int_child', 'Int_parent', 'MI', 'NC', 'O', 'P', 'PN', 'Q+', 'Q-',\n       'S+', 'S-', 'SI+', 'SI-', 'VI+', 'VI-'], dtype='<U10')"
     },
     "execution_count": 1,
     "metadata": {},
     "output_type": "execute_result"
    }
   ],
   "execution_count": 1
  },
  {
   "cell_type": "code",
   "execution_count": 1,
   "outputs": [],
   "source": [
    "import numpy as np\n",
    "import pandas as pd\n",
    "import os\n",
    "from ast import literal_eval"
   ],
   "metadata": {
    "collapsed": false,
    "ExecuteTime": {
     "end_time": "2024-02-29T21:15:21.089236700Z",
     "start_time": "2024-02-29T21:15:20.806780700Z"
    }
   }
  },
  {
   "cell_type": "code",
   "execution_count": 2,
   "outputs": [
    {
     "data": {
      "text/plain": "     C:\\Users\\36394\\Study\\GWU\\PHD in Biomedical Engineer\\Research\\FOS\\Autism_dataset\\Data_10s_clips\\20th_BAM_Hospital_Playtime_New Toys_0.mp4\n0     C:\\Users\\36394\\Study\\GWU\\PHD in Biomedical Eng...                                                                                      \n1     C:\\Users\\36394\\Study\\GWU\\PHD in Biomedical Eng...                                                                                      \n2     C:\\Users\\36394\\Study\\GWU\\PHD in Biomedical Eng...                                                                                      \n3     C:\\Users\\36394\\Study\\GWU\\PHD in Biomedical Eng...                                                                                      \n4     C:\\Users\\36394\\Study\\GWU\\PHD in Biomedical Eng...                                                                                      \n...                                                 ...                                                                                      \n8102  C:\\Users\\36394\\Study\\GWU\\PHD in Biomedical Eng...                                                                                      \n8103  C:\\Users\\36394\\Study\\GWU\\PHD in Biomedical Eng...                                                                                      \n8104  C:\\Users\\36394\\Study\\GWU\\PHD in Biomedical Eng...                                                                                      \n8105  C:\\Users\\36394\\Study\\GWU\\PHD in Biomedical Eng...                                                                                      \n8106  C:\\Users\\36394\\Study\\GWU\\PHD in Biomedical Eng...                                                                                      \n\n[8107 rows x 1 columns]",
      "text/html": "<div>\n<style scoped>\n    .dataframe tbody tr th:only-of-type {\n        vertical-align: middle;\n    }\n\n    .dataframe tbody tr th {\n        vertical-align: top;\n    }\n\n    .dataframe thead th {\n        text-align: right;\n    }\n</style>\n<table border=\"1\" class=\"dataframe\">\n  <thead>\n    <tr style=\"text-align: right;\">\n      <th></th>\n      <th>C:\\Users\\36394\\Study\\GWU\\PHD in Biomedical Engineer\\Research\\FOS\\Autism_dataset\\Data_10s_clips\\20th_BAM_Hospital_Playtime_New Toys_0.mp4</th>\n    </tr>\n  </thead>\n  <tbody>\n    <tr>\n      <th>0</th>\n      <td>C:\\Users\\36394\\Study\\GWU\\PHD in Biomedical Eng...</td>\n    </tr>\n    <tr>\n      <th>1</th>\n      <td>C:\\Users\\36394\\Study\\GWU\\PHD in Biomedical Eng...</td>\n    </tr>\n    <tr>\n      <th>2</th>\n      <td>C:\\Users\\36394\\Study\\GWU\\PHD in Biomedical Eng...</td>\n    </tr>\n    <tr>\n      <th>3</th>\n      <td>C:\\Users\\36394\\Study\\GWU\\PHD in Biomedical Eng...</td>\n    </tr>\n    <tr>\n      <th>4</th>\n      <td>C:\\Users\\36394\\Study\\GWU\\PHD in Biomedical Eng...</td>\n    </tr>\n    <tr>\n      <th>...</th>\n      <td>...</td>\n    </tr>\n    <tr>\n      <th>8102</th>\n      <td>C:\\Users\\36394\\Study\\GWU\\PHD in Biomedical Eng...</td>\n    </tr>\n    <tr>\n      <th>8103</th>\n      <td>C:\\Users\\36394\\Study\\GWU\\PHD in Biomedical Eng...</td>\n    </tr>\n    <tr>\n      <th>8104</th>\n      <td>C:\\Users\\36394\\Study\\GWU\\PHD in Biomedical Eng...</td>\n    </tr>\n    <tr>\n      <th>8105</th>\n      <td>C:\\Users\\36394\\Study\\GWU\\PHD in Biomedical Eng...</td>\n    </tr>\n    <tr>\n      <th>8106</th>\n      <td>C:\\Users\\36394\\Study\\GWU\\PHD in Biomedical Eng...</td>\n    </tr>\n  </tbody>\n</table>\n<p>8107 rows × 1 columns</p>\n</div>"
     },
     "execution_count": 2,
     "metadata": {},
     "output_type": "execute_result"
    }
   ],
   "source": [
    "df_10s = pd.read_csv(r'10s_av_clips_with_labels.csv')\n",
    "df_paths_clip = pd.DataFrame([os.path.normpath(path) for path in df_10s['path'].values], columns=['path'])\n",
    "df_paths_clip.to_csv('paths_clip.csv', header=False, index=False)\n",
    "df_paths_clip = pd.read_csv('paths_clip.csv')\n",
    "df_paths_clip"
   ],
   "metadata": {
    "collapsed": false,
    "ExecuteTime": {
     "end_time": "2024-02-29T21:15:21.169123600Z",
     "start_time": "2024-02-29T21:15:21.091236700Z"
    }
   }
  },
  {
   "cell_type": "markdown",
   "source": [
    "## Step 1.2: extract audio track and image frames from the videos dataset\n",
    "I have modified the\n",
    "\"\\src\\preprocess\\extract_audio.py\" and \"\\src\\preprocess\\extract_video_frame.py\"\n",
    "to fit our FOS dataset.\n",
    "In the terminal, run the following command to extract audio track and image frames from the video:\n",
    "```bash\n",
    "python src/preprocess/extract_audio.py\n",
    "  -input_file_list \"C:\\Users\\36394\\PycharmProjects\\cav-mae\\zzh_code\\paths_clip.csv\"\n",
    "  -target_fold \"C:\\Users\\36394\\Study\\GWU\\PHD in Biomedical Engineer\\Research\\FOS\\Autism_dataset\\cav_mae_processed_data\\audio_10s\"\n",
    "\n",
    "python src/preprocess/extract_video_frame.py\n",
    "  -input_file_list \"C:\\Users\\36394\\PycharmProjects\\cav-mae\\zzh_code\\paths_clip.csv\"\n",
    "  -target_fold \"C:\\Users\\36394\\Study\\GWU\\PHD in Biomedical Engineer\\Research\\FOS\\Autism_dataset\\cav_mae_processed_data\\RGB_10_frames\"\n",
    "```"
   ],
   "metadata": {
    "collapsed": false
   }
  },
  {
   "cell_type": "markdown",
   "source": [
    "# Step 2: Determine the used labels and segment to the train adn validation sets"
   ],
   "metadata": {
    "collapsed": false
   }
  },
  {
   "cell_type": "markdown",
   "source": [
    "## Step 2.1: Determine the used labels"
   ],
   "metadata": {
    "collapsed": false
   }
  },
  {
   "cell_type": "code",
   "execution_count": 3,
   "outputs": [
    {
     "data": {
      "text/plain": "    index         mid                     display_name\n0       0          AD                  Adersive demand\n1       1          AV  Appropriate verbal interactions\n2       2   Aff_child               Children affection\n3       3  Aff_parent                 Parent affection\n4       4          C+                 Positive contact\n5       5          C-                 Negative contact\n6       6          CP                        Complaint\n7       7          EA         Engaged activity of play\n8       8   Int_child               Children interrupt\n9       9  Int_parent                 Parent interrupt\n10     10          MI                 Mild instruction\n11     11          NC                   Non-compliance\n12     12           O                     Oppositional\n13     13           P                           Praise\n14     14          PN                Physical negative\n15     15          Q+                Positive question\n16     16          Q-                Negative question\n17     17          S+        Positive social attention\n18     18          S-        Negative social attention\n19     19         SI+    Positive specific instruction\n20     20         SI-    Negative specific instruction\n21     21         VI+       Positive vague instruction\n22     22         VI-       Negative vague instruction",
      "text/html": "<div>\n<style scoped>\n    .dataframe tbody tr th:only-of-type {\n        vertical-align: middle;\n    }\n\n    .dataframe tbody tr th {\n        vertical-align: top;\n    }\n\n    .dataframe thead th {\n        text-align: right;\n    }\n</style>\n<table border=\"1\" class=\"dataframe\">\n  <thead>\n    <tr style=\"text-align: right;\">\n      <th></th>\n      <th>index</th>\n      <th>mid</th>\n      <th>display_name</th>\n    </tr>\n  </thead>\n  <tbody>\n    <tr>\n      <th>0</th>\n      <td>0</td>\n      <td>AD</td>\n      <td>Adersive demand</td>\n    </tr>\n    <tr>\n      <th>1</th>\n      <td>1</td>\n      <td>AV</td>\n      <td>Appropriate verbal interactions</td>\n    </tr>\n    <tr>\n      <th>2</th>\n      <td>2</td>\n      <td>Aff_child</td>\n      <td>Children affection</td>\n    </tr>\n    <tr>\n      <th>3</th>\n      <td>3</td>\n      <td>Aff_parent</td>\n      <td>Parent affection</td>\n    </tr>\n    <tr>\n      <th>4</th>\n      <td>4</td>\n      <td>C+</td>\n      <td>Positive contact</td>\n    </tr>\n    <tr>\n      <th>5</th>\n      <td>5</td>\n      <td>C-</td>\n      <td>Negative contact</td>\n    </tr>\n    <tr>\n      <th>6</th>\n      <td>6</td>\n      <td>CP</td>\n      <td>Complaint</td>\n    </tr>\n    <tr>\n      <th>7</th>\n      <td>7</td>\n      <td>EA</td>\n      <td>Engaged activity of play</td>\n    </tr>\n    <tr>\n      <th>8</th>\n      <td>8</td>\n      <td>Int_child</td>\n      <td>Children interrupt</td>\n    </tr>\n    <tr>\n      <th>9</th>\n      <td>9</td>\n      <td>Int_parent</td>\n      <td>Parent interrupt</td>\n    </tr>\n    <tr>\n      <th>10</th>\n      <td>10</td>\n      <td>MI</td>\n      <td>Mild instruction</td>\n    </tr>\n    <tr>\n      <th>11</th>\n      <td>11</td>\n      <td>NC</td>\n      <td>Non-compliance</td>\n    </tr>\n    <tr>\n      <th>12</th>\n      <td>12</td>\n      <td>O</td>\n      <td>Oppositional</td>\n    </tr>\n    <tr>\n      <th>13</th>\n      <td>13</td>\n      <td>P</td>\n      <td>Praise</td>\n    </tr>\n    <tr>\n      <th>14</th>\n      <td>14</td>\n      <td>PN</td>\n      <td>Physical negative</td>\n    </tr>\n    <tr>\n      <th>15</th>\n      <td>15</td>\n      <td>Q+</td>\n      <td>Positive question</td>\n    </tr>\n    <tr>\n      <th>16</th>\n      <td>16</td>\n      <td>Q-</td>\n      <td>Negative question</td>\n    </tr>\n    <tr>\n      <th>17</th>\n      <td>17</td>\n      <td>S+</td>\n      <td>Positive social attention</td>\n    </tr>\n    <tr>\n      <th>18</th>\n      <td>18</td>\n      <td>S-</td>\n      <td>Negative social attention</td>\n    </tr>\n    <tr>\n      <th>19</th>\n      <td>19</td>\n      <td>SI+</td>\n      <td>Positive specific instruction</td>\n    </tr>\n    <tr>\n      <th>20</th>\n      <td>20</td>\n      <td>SI-</td>\n      <td>Negative specific instruction</td>\n    </tr>\n    <tr>\n      <th>21</th>\n      <td>21</td>\n      <td>VI+</td>\n      <td>Positive vague instruction</td>\n    </tr>\n    <tr>\n      <th>22</th>\n      <td>22</td>\n      <td>VI-</td>\n      <td>Negative vague instruction</td>\n    </tr>\n  </tbody>\n</table>\n</div>"
     },
     "execution_count": 3,
     "metadata": {},
     "output_type": "execute_result"
    }
   ],
   "source": [
    "# The whole FOS labels\n",
    "dict_FOS_labels = {\n",
    "    'AD': 'Adersive demand',\n",
    "    'AV': 'Appropriate verbal interactions',\n",
    "    'Aff_child': 'Children affection',\n",
    "    'Aff_parent': 'Parent affection',\n",
    "    'C+': 'Positive contact',\n",
    "    'C-': 'Negative contact',\n",
    "    'CP': 'Complaint',\n",
    "    'EA': 'Engaged activity of play',\n",
    "    'Int_child': 'Children interrupt',\n",
    "    'Int_parent': 'Parent interrupt',\n",
    "    'MI': 'Mild instruction',\n",
    "    'NC': 'Non-compliance',\n",
    "    'O': 'Oppositional',\n",
    "    'P': 'Praise',\n",
    "    'PN': 'Physical negative',\n",
    "    'Q+': 'Positive question',\n",
    "    'Q-': 'Negative question',\n",
    "    'S+': 'Positive social attention',\n",
    "    'S-': 'Negative social attention',\n",
    "    'SI+': 'Positive specific instruction',\n",
    "    'SI-': 'Negative specific instruction',\n",
    "    'VI+': 'Positive vague instruction',\n",
    "    'VI-': 'Negative vague instruction'\n",
    "}\n",
    "labels = list(dict_FOS_labels.keys())\n",
    "# Create label dataframe\n",
    "df_FOS_label = pd.DataFrame({\n",
    "    'index': list(range(0, len(dict_FOS_labels))),  # 0-based index\n",
    "    'mid': list(dict_FOS_labels.keys()),  # The IS code in the FOS dataset\n",
    "    'display_name': list(dict_FOS_labels.values())  # The IS in the FOS dataset\n",
    "})\n",
    "# Store and display the label dataframe\n",
    "df_FOS_label.to_csv('FOS_label.csv', index=False)\n",
    "df_FOS_label"
   ],
   "metadata": {
    "collapsed": false,
    "ExecuteTime": {
     "end_time": "2024-02-29T21:15:21.523824200Z",
     "start_time": "2024-02-29T21:15:21.509124700Z"
    }
   }
  },
  {
   "cell_type": "code",
   "execution_count": 4,
   "outputs": [
    {
     "name": "stdout",
     "output_type": "stream",
     "text": [
      "The number of labels we have is 23.\n",
      "\n",
      "The counts of each label are:\n",
      "        AD: 41        \t        AV: 1464      \t Aff_child: 24        \tAff_parent: 329       \n",
      "        C+: 2223      \t        C-: 15        \t        CP: 178       \t        EA: 3630      \n",
      " Int_child: 1         \tInt_parent: 1         \t        MI: 185       \t        NC: 150       \n",
      "         O: 2511      \t         P: 332       \t        PN: 72        \t        Q+: 1586      \n",
      "        Q-: 4         \t        S+: 5086      \t        S-: 13        \t       SI+: 799       \n",
      "       SI-: 13        \t       VI+: 2983      \t       VI-: 20        \t\n",
      "\n",
      "The number of labels we used is 13.\n",
      "The labels we used are ['AV', 'Aff_parent', 'C+', 'CP', 'EA', 'MI', 'NC', 'O', 'P', 'Q+', 'S+', 'SI+', 'VI+'].\n",
      "The number of labels we dropped is 10.\n",
      "The labels we dropped are ['SI-', 'Int_child', 'AD', 'C-', 'Q-', 'Int_parent', 'Aff_child', 'S-', 'PN', 'VI-'].\n"
     ]
    }
   ],
   "source": [
    "# Only keep the labels that have more than 100 occurrences\n",
    "labels_used = [] # store the labels that have more than 100 occurrences\n",
    "print(\"The number of labels we have is {}.\".format(len(labels)))\n",
    "print()\n",
    "\n",
    "print(\"The counts of each label are:\")\n",
    "for index, label in enumerate(labels):\n",
    "    df_10s[label] = df_10s.apply(lambda row: 1 if label in literal_eval(row['labels']) else 0, axis=1)\n",
    "    occurrences = np.sum(df_10s[label] == 1)\n",
    "    if occurrences > 100:\n",
    "        labels_used.append(label)\n",
    "\n",
    "    if (index+1) % 4 == 0:\n",
    "        print(\"{:>10}: {:<10}\".format(label, occurrences), end = \"\\n\")\n",
    "    else:\n",
    "        print(\"{:>10}: {:<10}\".format(label, occurrences), end = \"\\t\")\n",
    "\n",
    "print(\"\\n\")\n",
    "print(\"The number of labels we used is {}.\".format(len(labels_used)))\n",
    "print(\"The labels we used are {}.\".format(labels_used))\n",
    "print(\"The number of labels we dropped is {}.\".format(len(labels) - len(labels_used)))\n",
    "print(\"The labels we dropped are {}.\".format(list(set(labels) - set(labels_used))))"
   ],
   "metadata": {
    "collapsed": false,
    "ExecuteTime": {
     "end_time": "2024-02-29T21:15:23.660343300Z",
     "start_time": "2024-02-29T21:15:21.722125500Z"
    }
   }
  },
  {
   "cell_type": "markdown",
   "source": [
    "## Step 2.2: Segment the dataset to the train and validation sets"
   ],
   "metadata": {
    "collapsed": false
   }
  },
  {
   "cell_type": "code",
   "execution_count": 5,
   "outputs": [
    {
     "name": "stdout",
     "output_type": "stream",
     "text": [
      "The counts of each label in the are train set are: \n",
      "        AV: 1171      \tAff_parent: 264       \t        C+: 1791      \t        CP: 142       \n",
      "        EA: 2904      \t        MI: 156       \t        NC: 124       \t         O: 2009      \n",
      "         P: 265       \t        Q+: 1264      \t        S+: 4069      \t       SI+: 644       \n",
      "       VI+: 2396      \t\n",
      "The counts of each label in the are validation set are: \n",
      "        AV: 293       \tAff_parent: 65        \t        C+: 432       \t        CP: 36        \n",
      "        EA: 726       \t        MI: 29        \t        NC: 26        \t         O: 502       \n",
      "         P: 67        \t        Q+: 322       \t        S+: 1017      \t       SI+: 155       \n",
      "       VI+: 587       \t"
     ]
    }
   ],
   "source": [
    "# Split the dataset into training and testing dataset. multi-label iterative stratified sampling\n",
    "from skmultilearn.model_selection import iterative_train_test_split\n",
    "\n",
    "# extract the features and used labels from the original csv to numpy arrays\n",
    "Y = df_10s[labels_used].to_numpy()\n",
    "X = df_10s.iloc[:, :2].to_numpy()\n",
    "\n",
    "# split the dataset into training and testing dataset\n",
    "X_train, Y_train, X_test, Y_test = iterative_train_test_split(X, Y, test_size = 0.2)\n",
    "\n",
    "# save the training and testing dataset into csv files\n",
    "head = df_10s.columns[:2].tolist()+labels_used\n",
    "df_train = pd.DataFrame(np.concatenate((X_train, Y_train), axis=1), columns=head)\n",
    "df_train['used_label'] = df_train.apply(lambda row: [col for col in labels_used if row[col] == 1], axis=1)\n",
    "df_validation = pd.DataFrame(np.concatenate((X_test, Y_test), axis=1), columns=head)\n",
    "df_validation['used_label'] = df_validation.apply(lambda row: [col for col in labels_used if row[col] == 1], axis=1)\n",
    "df_train.to_csv(r'train.csv', index=False)\n",
    "df_validation.to_csv(r'validation.csv', index=False)\n",
    "\n",
    "# print the counts of each label in the training and testing dataset\n",
    "print(\"The counts of each label in the are train set are: \")\n",
    "for index, label in enumerate(labels_used):\n",
    "    occurrences = np.sum(df_train[label] == 1)\n",
    "\n",
    "    if (index+1) % 4 == 0:\n",
    "        print(\"{:>10}: {:<10}\".format(label, occurrences), end = \"\\n\")\n",
    "    else:\n",
    "        print(\"{:>10}: {:<10}\".format(label, occurrences), end = \"\\t\")\n",
    "print()\n",
    "print(\"The counts of each label in the are validation set are: \")\n",
    "for index, label in enumerate(labels_used):\n",
    "    occurrences = np.sum(df_validation[label] == 1)\n",
    "\n",
    "    if (index+1) % 4 == 0:\n",
    "        print(\"{:>10}: {:<10}\".format(label, occurrences), end = \"\\n\")\n",
    "    else:\n",
    "        print(\"{:>10}: {:<10}\".format(label, occurrences), end = \"\\t\")"
   ],
   "metadata": {
    "collapsed": false,
    "ExecuteTime": {
     "end_time": "2024-02-29T21:15:24.963055100Z",
     "start_time": "2024-02-29T21:15:23.664848800Z"
    }
   }
  },
  {
   "cell_type": "markdown",
   "source": [
    "# Step 3: Build a FOS label csv and json files for the FOS dataset."
   ],
   "metadata": {
    "collapsed": false
   }
  },
  {
   "cell_type": "markdown",
   "source": [
    "## Step 3.1: Build a FOS label csv."
   ],
   "metadata": {
    "collapsed": false
   }
  },
  {
   "cell_type": "code",
   "execution_count": 6,
   "outputs": [
    {
     "data": {
      "text/plain": "{'AV': 'Appropriate verbal interactions',\n 'Aff_parent': 'Parent affection',\n 'C+': 'Positive contact',\n 'CP': 'Complaint',\n 'EA': 'Engaged activity of play',\n 'MI': 'Mild instruction',\n 'NC': 'Non-compliance',\n 'O': 'Oppositional',\n 'P': 'Praise',\n 'Q+': 'Positive question',\n 'S+': 'Positive social attention',\n 'SI+': 'Positive specific instruction',\n 'VI+': 'Positive vague instruction'}"
     },
     "execution_count": 6,
     "metadata": {},
     "output_type": "execute_result"
    }
   ],
   "source": [
    "dict_used_label = {key: dict_FOS_labels[key] for key in labels_used if key in dict_FOS_labels}\n",
    "dict_used_label"
   ],
   "metadata": {
    "collapsed": false,
    "ExecuteTime": {
     "end_time": "2024-02-29T21:15:25.009137300Z",
     "start_time": "2024-02-29T21:15:24.966075400Z"
    }
   }
  },
  {
   "cell_type": "code",
   "execution_count": 7,
   "outputs": [
    {
     "data": {
      "text/plain": "    index         mid                     display_name\n0       0          AV  Appropriate verbal interactions\n1       1  Aff_parent                 Parent affection\n2       2          C+                 Positive contact\n3       3          CP                        Complaint\n4       4          EA         Engaged activity of play\n5       5          MI                 Mild instruction\n6       6          NC                   Non-compliance\n7       7           O                     Oppositional\n8       8           P                           Praise\n9       9          Q+                Positive question\n10     10          S+        Positive social attention\n11     11         SI+    Positive specific instruction\n12     12         VI+       Positive vague instruction",
      "text/html": "<div>\n<style scoped>\n    .dataframe tbody tr th:only-of-type {\n        vertical-align: middle;\n    }\n\n    .dataframe tbody tr th {\n        vertical-align: top;\n    }\n\n    .dataframe thead th {\n        text-align: right;\n    }\n</style>\n<table border=\"1\" class=\"dataframe\">\n  <thead>\n    <tr style=\"text-align: right;\">\n      <th></th>\n      <th>index</th>\n      <th>mid</th>\n      <th>display_name</th>\n    </tr>\n  </thead>\n  <tbody>\n    <tr>\n      <th>0</th>\n      <td>0</td>\n      <td>AV</td>\n      <td>Appropriate verbal interactions</td>\n    </tr>\n    <tr>\n      <th>1</th>\n      <td>1</td>\n      <td>Aff_parent</td>\n      <td>Parent affection</td>\n    </tr>\n    <tr>\n      <th>2</th>\n      <td>2</td>\n      <td>C+</td>\n      <td>Positive contact</td>\n    </tr>\n    <tr>\n      <th>3</th>\n      <td>3</td>\n      <td>CP</td>\n      <td>Complaint</td>\n    </tr>\n    <tr>\n      <th>4</th>\n      <td>4</td>\n      <td>EA</td>\n      <td>Engaged activity of play</td>\n    </tr>\n    <tr>\n      <th>5</th>\n      <td>5</td>\n      <td>MI</td>\n      <td>Mild instruction</td>\n    </tr>\n    <tr>\n      <th>6</th>\n      <td>6</td>\n      <td>NC</td>\n      <td>Non-compliance</td>\n    </tr>\n    <tr>\n      <th>7</th>\n      <td>7</td>\n      <td>O</td>\n      <td>Oppositional</td>\n    </tr>\n    <tr>\n      <th>8</th>\n      <td>8</td>\n      <td>P</td>\n      <td>Praise</td>\n    </tr>\n    <tr>\n      <th>9</th>\n      <td>9</td>\n      <td>Q+</td>\n      <td>Positive question</td>\n    </tr>\n    <tr>\n      <th>10</th>\n      <td>10</td>\n      <td>S+</td>\n      <td>Positive social attention</td>\n    </tr>\n    <tr>\n      <th>11</th>\n      <td>11</td>\n      <td>SI+</td>\n      <td>Positive specific instruction</td>\n    </tr>\n    <tr>\n      <th>12</th>\n      <td>12</td>\n      <td>VI+</td>\n      <td>Positive vague instruction</td>\n    </tr>\n  </tbody>\n</table>\n</div>"
     },
     "execution_count": 7,
     "metadata": {},
     "output_type": "execute_result"
    }
   ],
   "source": [
    "# Create label dataframe\n",
    "df_FOS_used_label = pd.DataFrame({\n",
    "    'index': list(range(0, len(dict_used_label))),  # 0-based index\n",
    "    'mid': list(dict_used_label.keys()),  # The IS code in the FOS dataset\n",
    "    'display_name': list(dict_used_label.values())  # The IS in the FOS dataset\n",
    "})\n",
    "# Store and display the label dataframe\n",
    "df_FOS_used_label.to_csv('FOS_used_label.csv', index=False)\n",
    "df_FOS_used_label"
   ],
   "metadata": {
    "collapsed": false,
    "ExecuteTime": {
     "end_time": "2024-02-29T21:15:25.023137400Z",
     "start_time": "2024-02-29T21:15:24.981137600Z"
    }
   }
  },
  {
   "cell_type": "markdown",
   "source": [
    "## Step 2.2: Build the FOS train and validation label json"
   ],
   "metadata": {
    "collapsed": false
   }
  },
  {
   "cell_type": "code",
   "execution_count": 8,
   "outputs": [],
   "source": [
    "import json, os\n",
    "\n",
    "# Change the data dictionary if we used server to run the code\n",
    "dir_10_frames = r\"C:\\Users\\36394\\Study\\GWU\\PHD in Biomedical Engineer\\Research\\FOS\\Autism_dataset\\cav_mae_processed_data\\RGB_10_frames\"\n",
    "dir_audio = r'C:\\Users\\36394\\Study\\GWU\\PHD in Biomedical Engineer\\Research\\FOS\\Autism_dataset\\cav_mae_processed_data\\audio_10s'\n",
    "\n",
    "def build_json_FOS_dataset(dir_10_frames, dir_audio, df_FOS_10s_with_label, save_path):\n",
    "    # Create the empty json dataset\n",
    "    json_FOS_dataset = []\n",
    "\n",
    "    # Convert the 10s video clips with labels to the json format\n",
    "    for index, row in df_FOS_10s_with_label.iterrows():\n",
    "        # Get the video id, labels and the path of the audio track\n",
    "        video_id = os.path.basename(row['path'][:-4])\n",
    "        labels = literal_eval(row['used_label'])\n",
    "        labels = ', '.join(labels)\n",
    "        path_audio = os.path.join(dir_audio, video_id + '.wav')\n",
    "\n",
    "        # Create the new entry for the json file\n",
    "        new_entry = {\n",
    "            'video_id': video_id,\n",
    "            'wav': path_audio,\n",
    "            'video_path': dir_10_frames,\n",
    "            'labels': labels\n",
    "        }\n",
    "\n",
    "        # Append the new entry to the json dataset\n",
    "        json_FOS_dataset.append(new_entry)\n",
    "    json_FOS_dataset = {'data': json_FOS_dataset}\n",
    "\n",
    "    # save the json file\n",
    "    with open(save_path, 'w') as file:\n",
    "        json.dump(json_FOS_dataset, file, indent=4)\n"
   ],
   "metadata": {
    "collapsed": false,
    "ExecuteTime": {
     "end_time": "2024-02-29T21:15:25.119654200Z",
     "start_time": "2024-02-29T21:15:25.069654900Z"
    }
   }
  },
  {
   "cell_type": "code",
   "execution_count": 9,
   "outputs": [],
   "source": [
    "# Save the FOS train and validation dataset to json files\n",
    "save_path = 'FOS_train_dataset.json'\n",
    "df_train = pd.read_csv(r'train.csv')\n",
    "build_json_FOS_dataset(dir_10_frames, dir_audio, df_train, save_path)\n",
    "save_path = 'FOS_validation_dataset.json'\n",
    "df_validation = pd.read_csv(r'validation.csv')\n",
    "build_json_FOS_dataset(dir_10_frames, dir_audio, df_validation, save_path)"
   ],
   "metadata": {
    "collapsed": false,
    "ExecuteTime": {
     "end_time": "2024-02-29T21:15:32.834893300Z",
     "start_time": "2024-02-29T21:15:32.363752Z"
    }
   }
  }
 ],
 "metadata": {
  "kernelspec": {
   "display_name": "Python 3",
   "language": "python",
   "name": "python3"
  },
  "language_info": {
   "codemirror_mode": {
    "name": "ipython",
    "version": 2
   },
   "file_extension": ".py",
   "mimetype": "text/x-python",
   "name": "python",
   "nbconvert_exporter": "python",
   "pygments_lexer": "ipython2",
   "version": "2.7.6"
  }
 },
 "nbformat": 4,
 "nbformat_minor": 0
}
